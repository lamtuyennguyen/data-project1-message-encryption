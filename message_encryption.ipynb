{
 "cells": [
  {
   "cell_type": "code",
   "execution_count": 1,
   "metadata": {},
   "outputs": [
    {
     "name": "stdout",
     "output_type": "stream",
     "text": [
      "['a', 'b', 'c', 'd', 'e', 'f', 'g', 'h', 'i', 'j', 'k', 'l', 'm', 'n', 'o', 'p', 'q', 'r', 's', 't', 'u', 'v', 'w', 'x', 'y', 'z', ' ', ',', '.', '?', '!', '-', 'A', 'B', 'C', 'D', 'E', 'F', 'G', 'H', 'I', 'J', 'K', 'L', 'M', 'N', 'O', 'P', 'Q', 'R', 'S', 'T', 'U', 'V', 'W', 'X', 'Y', 'Z']\n"
     ]
    },
    {
     "data": {
      "text/plain": [
       "58"
      ]
     },
     "execution_count": 1,
     "metadata": {},
     "output_type": "execute_result"
    }
   ],
   "source": [
    "alphabet = ['a', 'b', 'c', 'd', 'e', 'f', 'g', 'h', 'i', 'j', 'k', 'l', 'm', 'n', 'o', 'p', 'q', 'r', 's', 't',\n",
    "            'u', 'v', 'w', 'x', 'y', 'z', ' ', ',', '.', '?', '!', '-', 'A', 'B', 'C', 'D', 'E', 'F', 'G', 'H', 'I',\n",
    "           'J', 'K', 'L', 'M', 'N', 'O', 'P', 'Q', 'R', 'S', 'T', 'U', 'V', 'W', 'X', 'Y', 'Z']\n",
    "print(alphabet)\n",
    "len(alphabet)"
   ]
  },
  {
   "cell_type": "code",
   "execution_count": 2,
   "metadata": {},
   "outputs": [
    {
     "name": "stdout",
     "output_type": "stream",
     "text": [
      "[99, 120, 143, 168, 195, 224, 255, 288, 323, 360, 399, 440, 483, 528, 575, 624, 675, 728, 783, 840, 899, 960, 1023, 1088, 1155, 1224, 1295, 1368, 1443, 1520, 1599, 1680, 1763, 1848, 1935, 2024, 2115, 2208, 2303, 2400, 2499, 2600, 2703, 2808, 2915, 3024, 3135, 3248, 3363, 3480, 3599, 3720, 3843, 3968, 4095, 4224, 4355]\n"
     ]
    },
    {
     "data": {
      "text/plain": [
       "58"
      ]
     },
     "execution_count": 2,
     "metadata": {},
     "output_type": "execute_result"
    }
   ],
   "source": [
    "cipher = list(range(11, 69))\n",
    "cipher_2 = [i**2-i*2 for i in list(range(11, 68))]\n",
    "print(cipher_2)\n",
    "len(cipher)"
   ]
  },
  {
   "cell_type": "code",
   "execution_count": 3,
   "metadata": {},
   "outputs": [
    {
     "name": "stdout",
     "output_type": "stream",
     "text": [
      "{'a': 99, 'b': 120, 'c': 143, 'd': 168, 'e': 195, 'f': 224, 'g': 255, 'h': 288, 'i': 323, 'j': 360, 'k': 399, 'l': 440, 'm': 483, 'n': 528, 'o': 575, 'p': 624, 'q': 675, 'r': 728, 's': 783, 't': 840, 'u': 899, 'v': 960, 'w': 1023, 'x': 1088, 'y': 1155, 'z': 1224, ' ': 1295, ',': 1368, '.': 1443, '?': 1520, '!': 1599, '-': 1680, 'A': 1763, 'B': 1848, 'C': 1935, 'D': 2024, 'E': 2115, 'F': 2208, 'G': 2303, 'H': 2400, 'I': 2499, 'J': 2600, 'K': 2703, 'L': 2808, 'M': 2915, 'N': 3024, 'O': 3135, 'P': 3248, 'Q': 3363, 'R': 3480, 'S': 3599, 'T': 3720, 'U': 3843, 'V': 3968, 'W': 4095, 'X': 4224, 'Y': 4355}\n"
     ]
    }
   ],
   "source": [
    "# create a dictionary\n",
    "alphabet_cipher_dict = dict(zip(alphabet, cipher_2))\n",
    "print(alphabet_cipher_dict)"
   ]
  },
  {
   "cell_type": "code",
   "execution_count": 4,
   "metadata": {},
   "outputs": [
    {
     "data": {
      "text/plain": [
       "'2400_195_440_440_575_1295_4095_195_195_399_1680_195_528_168_1599'"
      ]
     },
     "execution_count": 4,
     "metadata": {},
     "output_type": "execute_result"
    }
   ],
   "source": [
    "# function to encrypt text message\n",
    "def encryption(text):\n",
    "    result = [str(alphabet_cipher_dict[letter]) for letter in text]\n",
    "    return '_'.join(result)\n",
    "\n",
    "encryption('Hello Week-end!')"
   ]
  },
  {
   "cell_type": "code",
   "execution_count": 5,
   "metadata": {},
   "outputs": [
    {
     "data": {
      "text/plain": [
       "'Hello Week-end!'"
      ]
     },
     "execution_count": 5,
     "metadata": {},
     "output_type": "execute_result"
    }
   ],
   "source": [
    "# function to decrypt\n",
    "def decryption(text):\n",
    "    result = [int(number) for number in text.split('_')]\n",
    "    key_list = []\n",
    "    for number in result:\n",
    "        for key, value in alphabet_cipher_dict.items():\n",
    "            if value == number:\n",
    "                key_list.append(key)\n",
    "    return ''.join(key_list)\n",
    "\n",
    "decryption('2400_195_440_440_575_1295_4095_195_195_399_1680_195_528_168_1599')"
   ]
  },
  {
   "cell_type": "code",
   "execution_count": 6,
   "metadata": {},
   "outputs": [
    {
     "name": "stdout",
     "output_type": "stream",
     "text": [
      "Please insert your message! \n",
      "A new week is awaiting!\n",
      "Your message is successfully encrypted! \n",
      " 1763_1295_528_195_1023_1295_1023_195_195_399_1295_323_783_1295_99_1023_99_323_840_323_528_255_1599\n"
     ]
    }
   ],
   "source": [
    "user_text = input('Please insert your message! \\n')\n",
    "print('Your message is successfully encrypted! \\n', encryption(user_text))"
   ]
  },
  {
   "cell_type": "code",
   "execution_count": 7,
   "metadata": {
    "scrolled": true
   },
   "outputs": [
    {
     "name": "stdout",
     "output_type": "stream",
     "text": [
      "Please insert the code to see your message! \n",
      "1763_1295_528_195_1023_1295_1023_195_195_399_1295_323_783_1295_99_1023_99_323_840_323_528_255_1599\n",
      "Here is your message: \n",
      " A new week is awaiting!\n"
     ]
    }
   ],
   "source": [
    "user_encrypted_text = input('Please insert the code to see your message! \\n')\n",
    "print('Here is your message: \\n', decryption(user_encrypted_text))"
   ]
  },
  {
   "cell_type": "code",
   "execution_count": 9,
   "metadata": {},
   "outputs": [
    {
     "name": "stdout",
     "output_type": "stream",
     "text": [
      "Do you want to encrypt a message or decrypt a code? Please type \"encrypt\" or \"decrypt\"! \n",
      "decrypt\n",
      "Please insert the code to see your message! \n",
      "1763_1295_528_195_1023_1295_1023_195_195_399_1295_323_783_1295_99_1023_99_323_840_323_528_255_1599\n",
      "Here is your message: \n",
      " A new week is awaiting!\n"
     ]
    }
   ],
   "source": [
    "def message():\n",
    "    while True:\n",
    "        decision = input('Do you want to encrypt a message or decrypt a code? Please type \"encrypt\" or \"decrypt\"! \\n')\n",
    "        if decision == 'encrypt':\n",
    "            user_text = input('Please insert your message! Be aware that your message can contain lower and upper '+ \n",
    "                              'letters, comma, full stop, hyphen, question and exclamation mark. No numbers for '+\n",
    "                              'now, sorry, please write them as words instead! \\n')\n",
    "            print('Your message is successfully encrypted! \\n', encryption(user_text))\n",
    "            break\n",
    "        elif decision == 'decrypt':\n",
    "            user_encrypted_text = input('Please insert the code to see your message! \\n')\n",
    "            print('Here is your message: \\n', decryption(user_encrypted_text))\n",
    "            break\n",
    "        else:\n",
    "            continue\n",
    "message()"
   ]
  }
 ],
 "metadata": {
  "kernelspec": {
   "display_name": "Python 3",
   "language": "python",
   "name": "python3"
  },
  "language_info": {
   "codemirror_mode": {
    "name": "ipython",
    "version": 3
   },
   "file_extension": ".py",
   "mimetype": "text/x-python",
   "name": "python",
   "nbconvert_exporter": "python",
   "pygments_lexer": "ipython3",
   "version": "3.8.3"
  }
 },
 "nbformat": 4,
 "nbformat_minor": 4
}
