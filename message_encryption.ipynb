{
 "cells": [
  {
   "cell_type": "code",
   "execution_count": 52,
   "metadata": {},
   "outputs": [
    {
     "name": "stdout",
     "output_type": "stream",
     "text": [
      "['a', 'b', 'c', 'd', 'e', 'f', 'g', 'h', 'i', 'j', 'k', 'l', 'm', 'n', 'o', 'p', 'q', 'r', 's', 't', 'u', 'v', 'w', 'x', 'y', 'z', ' ', ',', '.', '?', '!', 'A', 'B', 'C', 'D', 'E', 'F', 'G', 'H', 'I', 'J', 'K', 'L', 'M', 'N', 'O', 'P', 'Q', 'R', 'S', 'T', 'U', 'V', 'W', 'X', 'Y', 'Z']\n",
      "[99, 120, 143, 168, 195, 224, 255, 288, 323, 360, 399, 440, 483, 528, 575, 624, 675, 728, 783, 840, 899, 960, 1023, 1088, 1155, 1224, 1295, 1368, 1443, 1520, 1599, 1680, 1763, 1848, 1935, 2024, 2115, 2208, 2303, 2400, 2499, 2600, 2703, 2808, 2915, 3024, 3135, 3248, 3363, 3480, 3599, 3720, 3843, 3968, 4095, 4224, 4355]\n",
      "{'a': 99, 'b': 120, 'c': 143, 'd': 168, 'e': 195, 'f': 224, 'g': 255, 'h': 288, 'i': 323, 'j': 360, 'k': 399, 'l': 440, 'm': 483, 'n': 528, 'o': 575, 'p': 624, 'q': 675, 'r': 728, 's': 783, 't': 840, 'u': 899, 'v': 960, 'w': 1023, 'x': 1088, 'y': 1155, 'z': 1224, ' ': 1295, ',': 1368, '.': 1443, '?': 1520, '!': 1599, 'A': 1680, 'B': 1763, 'C': 1848, 'D': 1935, 'E': 2024, 'F': 2115, 'G': 2208, 'H': 2303, 'I': 2400, 'J': 2499, 'K': 2600, 'L': 2703, 'M': 2808, 'N': 2915, 'O': 3024, 'P': 3135, 'Q': 3248, 'R': 3363, 'S': 3480, 'T': 3599, 'U': 3720, 'V': 3843, 'W': 3968, 'X': 4095, 'Y': 4224, 'Z': 4355}\n"
     ]
    }
   ],
   "source": [
    "alphabet = ['a', 'b', 'c', 'd', 'e', 'f', 'g', 'h', 'i', 'j', 'k', 'l', 'm', 'n', 'o', 'p', 'q', 'r', 's', 't',\n",
    "            'u', 'v', 'w', 'x', 'y', 'z', ' ', ',', '.', '?', '!', 'A', 'B', 'C', 'D', 'E', 'F', 'G', 'H', 'I',\n",
    "           'J', 'K', 'L', 'M', 'N', 'O', 'P', 'Q', 'R', 'S', 'T', 'U', 'V', 'W', 'X', 'Y', 'Z']\n",
    "print(alphabet)\n",
    "len(alphabet)\n",
    "\n",
    "cipher = list(range(11, 68))\n",
    "cipher_2 = [i**2-i*2 for i in list(range(11, 68))]\n",
    "print(cipher_2)\n",
    "len(cipher)\n",
    "\n",
    "# create a dictionary\n",
    "alphabet_cipher_dict = dict(zip(alphabet, cipher_2))\n",
    "print(alphabet_cipher_dict)"
   ]
  },
  {
   "cell_type": "code",
   "execution_count": 46,
   "metadata": {},
   "outputs": [
    {
     "data": {
      "text/plain": [
       "'324_225_484_484_625_1369_1089_225_225_441_225_576_196'"
      ]
     },
     "execution_count": 46,
     "metadata": {},
     "output_type": "execute_result"
    }
   ],
   "source": [
    "# function to encrypt text message\n",
    "def encryption(text):\n",
    "    result = [str(alphabet_cipher_dict[letter]) for letter in text]\n",
    "    return '_'.join(result)\n",
    "\n",
    "encryption('hello weekend')"
   ]
  },
  {
   "cell_type": "code",
   "execution_count": 47,
   "metadata": {},
   "outputs": [
    {
     "data": {
      "text/plain": [
       "'hello weekend'"
      ]
     },
     "execution_count": 47,
     "metadata": {},
     "output_type": "execute_result"
    }
   ],
   "source": [
    "# function to decrypt\n",
    "def decryption(text):\n",
    "    result = [int(number) for number in text.split('_')]\n",
    "    key_list = []\n",
    "    for number in result:\n",
    "        for key, value in alphabet_cipher_dict.items():\n",
    "            if value == number:\n",
    "                key_list.append(key)\n",
    "    return ''.join(key_list)\n",
    "\n",
    "decryption('324_225_484_484_625_1369_1089_225_225_441_225_576_196')"
   ]
  },
  {
   "cell_type": "code",
   "execution_count": 48,
   "metadata": {},
   "outputs": [
    {
     "name": "stdout",
     "output_type": "stream",
     "text": [
      "Please insert your message! \n",
      "Hello Weekend!\n",
      "Your message is successfully encrypted! \n",
      " 2401_225_484_484_625_1369_4096_225_225_441_225_576_196_1681\n"
     ]
    }
   ],
   "source": [
    "user_text = input('Please insert your message! \\n')\n",
    "print('Your message is successfully encrypted! \\n', encryption(user_text))"
   ]
  },
  {
   "cell_type": "code",
   "execution_count": 38,
   "metadata": {},
   "outputs": [
    {
     "name": "stdout",
     "output_type": "stream",
     "text": [
      "Please insert the code to see your message! \n",
      "18_22_11_37_18_22_11_37_18_22_11\n",
      "Here is your message: \n",
      " hla hla hla\n"
     ]
    }
   ],
   "source": [
    "user_encrypted_text = input('Please insert the code to see your message! \\n')\n",
    "print('Here is your message: \\n', decryption(user_encrypted_text))"
   ]
  },
  {
   "cell_type": "code",
   "execution_count": 51,
   "metadata": {},
   "outputs": [
    {
     "ename": "NameError",
     "evalue": "name 'encrypt' is not defined",
     "output_type": "error",
     "traceback": [
      "\u001b[0;31m---------------------------------------------------------------------------\u001b[0m",
      "\u001b[0;31mNameError\u001b[0m                                 Traceback (most recent call last)",
      "\u001b[0;32m<ipython-input-51-9a0fb5995bf3>\u001b[0m in \u001b[0;36m<module>\u001b[0;34m\u001b[0m\n\u001b[0;32m----> 1\u001b[0;31m \u001b[0mmessage\u001b[0m \u001b[0;34m=\u001b[0m \u001b[0minput\u001b[0m\u001b[0;34m(\u001b[0m\u001b[0;34m'Do you want to encrypt a message or decrypt a code?'\u001b[0m\u001b[0;34m,\u001b[0m \u001b[0mencrypt\u001b[0m\u001b[0;34m,\u001b[0m \u001b[0mdecrypt\u001b[0m\u001b[0;34m)\u001b[0m\u001b[0;34m\u001b[0m\u001b[0;34m\u001b[0m\u001b[0m\n\u001b[0m\u001b[1;32m      2\u001b[0m \u001b[0;34m\u001b[0m\u001b[0m\n\u001b[1;32m      3\u001b[0m \u001b[0;31m#if\u001b[0m\u001b[0;34m\u001b[0m\u001b[0;34m\u001b[0m\u001b[0;34m\u001b[0m\u001b[0m\n\u001b[1;32m      4\u001b[0m \u001b[0;34m\u001b[0m\u001b[0m\n\u001b[1;32m      5\u001b[0m \u001b[0;31m# ask what the user wants to do: options are encrypt or decrypt\u001b[0m\u001b[0;34m\u001b[0m\u001b[0;34m\u001b[0m\u001b[0;34m\u001b[0m\u001b[0m\n",
      "\u001b[0;31mNameError\u001b[0m: name 'encrypt' is not defined"
     ]
    }
   ],
   "source": [
    "message = input('Do you want to encrypt a message or decrypt a code?')\n",
    "\n",
    "# \n",
    "\n",
    "# ask what the user wants to do: options are encrypt or decrypt\n",
    "# if encrypt --> call function (tell user beforehand \"Your message can contain lower and upper letters \n",
    "# as well as comma, full stop, question mark and exclamation mark. No numbers for now, sorry, \n",
    "# please write them as words instead!\")\n",
    "# if decrypt --> call function"
   ]
  }
 ],
 "metadata": {
  "kernelspec": {
   "display_name": "Python 3",
   "language": "python",
   "name": "python3"
  },
  "language_info": {
   "codemirror_mode": {
    "name": "ipython",
    "version": 3
   },
   "file_extension": ".py",
   "mimetype": "text/x-python",
   "name": "python",
   "nbconvert_exporter": "python",
   "pygments_lexer": "ipython3",
   "version": "3.8.3"
  }
 },
 "nbformat": 4,
 "nbformat_minor": 4
}
